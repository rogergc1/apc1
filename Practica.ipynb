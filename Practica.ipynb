{
  "cells": [
    {
      "cell_type": "markdown",
      "metadata": {
        "id": "oZMnmdDBCl7F"
      },
      "source": [
        "# Pràctica 1: Resolem un problema de classificació\n",
        "\n",
        "## Objectius\n",
        "\n",
        "Els objectius d'aquesta pràctica són:\n",
        "\n",
        "* Aplicar els coneixements adquirits sobre processament de dades, classificació i validacio creuada.\n",
        "  \n",
        "* Ser capaç de comparar diferents models de classificació.\n",
        "\n",
        "* Ser capac de fer cerca d'hiperparàmetres.\n",
        "\n",
        "* Entendre i implementar la validació creuada.\n",
        "\n",
        "* Analitzar detalladament els resultats obtinguts durant l'aprenentatge dels diferents models.\n",
        "\n",
        "Aquesta pràctica és prèvia al cas kaggle que realitzareu durant la segona part de l'assignatura. En aquesta primera pràctica les preguntes estan definides, però us ha de servir d'aprenentatge a l'hora de saber com estructurar un projecte d'aprenentatge automàtic ja que en el cas kaggle no tindreu les preguntes.\n",
        "\n",
        "## Base de dades\n",
        "\n",
        "En aquesta pràctica farem servir la base de dades del titanic. L'atribut que predirem es Survived, el qual ens diu si cada passatger va sobreviure o no.\n",
        "\n",
        "\n",
        "https://www.kaggle.com/c/titanic/data\n",
        "\n",
        "\n",
        "## Treball en grup\n",
        "Aquesta pràctica es treballarà en grups de 2-3 persones. En casos excepcionals i degudament justificats la pràctica es podrà realitzar de forma individual.\n",
        "\n",
        "## Seguiment i entrega de la pràctica\n",
        "\n",
        "En la pràctica 1 es presenten diverses tasques per fer una correcta comparativa dels resultats obtinguts per diversos mètodes de classificació en una mateixa base de dades.\n",
        "\n",
        "En aquesta pràctica es realitzaran sessions de seguiment del treball. Aquestes sessions de treball estan orientades a que els alumnes que vingueu pugueu preguntar i resoldre dubtes sobre les dades, preguntar sobre l'objectiu de cada apartat dels enunciats que no us hagi quedat clar, i preguntar sobre els resultats que esteu obtenint a l'hora d'analitzar les dades. És molt recomanable venir a classe amb el treball fet per tal de poder comentar dubtes.\n",
        "\n",
        "Pel que fa l'entrega, caldrà entregar per caronte el següent:\n",
        "\n",
        "1. Memòria en format PDF explicant els resultats trobats sobre la bases de dades. La memòria ha d'utilitzar la plantilla de LaTeX que podeu trobar al Caronte i ha de ser de com a màxim 3 pàgines.\n",
        "   \n",
        "2. Notebook amb el respectiu codi de python.\n",
        "\n",
        "3. (Opcional) Presentació amb els resultats 4 min màxim."
      ]
    },
    {
      "cell_type": "markdown",
      "metadata": {
        "id": "6zdgsxfuCl7S"
      },
      "source": [
        "# Descripció de la pràctica\n",
        "\n",
        "A continuació es mostren tots els continguts que s'evaluaran en la pràctica:\n",
        "\n",
        "1. EDA (exploratory data analysis) (1 punt):\n",
        "  * Anàlisi de tamany i tipologia de dades\n",
        "  * Primera valoració de correlacions\n",
        "  * Anàlisi atribut target\n",
        "2. Preprocessing (2 punts):\n",
        "  * Eliminació de nans\n",
        "  * Encoding de categòriques\n",
        "  * Altres (PCA, normalització, ...)\n",
        "3. Metric selection (1.5 punts):\n",
        "  * Selecció de la millor mètrica pel problema\n",
        "  * Visualització de ROC/AUC per model base\n",
        "4. Model Selection amb Crossvalidation (4 punts):\n",
        "  * Selecció del millor model\n",
        "  * Cerca d'hiperparàmetres\n",
        "5. Anàlisi final (1.5 punt)\n",
        "\n",
        "La pràctica esta construida a partir d'un seguit de preguntes orientatives en cada apartat les quals tenen relació amb els continguts evaluables. **NO cal contestar-les totes**. Són una guia per a que reflexioneu i aprengueu detalls de cada apartat. És recomanable llegir totes les preguntes abans de realitzar la pràctica i tenir-les en ment a l'hora d'executar-la.\n",
        "\n",
        "\n",
        "**IMPORTANT**: El que es valorarà en la pràctica és la capacitat de mantenir una narrativa coherent alhora que s'expliquen els resultats. No es mirarà tant que alguna pregunta quedi per respondre sinó que els passos seguits en base als resultats obtinguts siguin coherents."
      ]
    },
    {
      "cell_type": "code",
      "execution_count": 1,
      "metadata": {},
      "outputs": [],
      "source": [
        "import pandas\n",
        "import sklearn\n",
        "import sklearn.linear_model\n",
        "\n",
        "df=pandas.read_csv(\"./train.csv\")"
      ]
    },
    {
      "cell_type": "markdown",
      "metadata": {
        "id": "fuENGdYFCl7S"
      },
      "source": [
        "### 1. EDA (exploratory data analysis) (1 punt)\n",
        "\n",
        "Abans de res cal sempre veure com es la base de dades assignada.\n",
        "\n",
        "**Preguntes:**\n",
        "* Quants atributs té la vostra base de dades?\n",
        "* Quin tipus d'atributs teniu? (Númerics, temporals, categòrics, binaris...)\n",
        "* Com es el target? quantes categories diferents existeixen?\n",
        "* Tenim nans en les dades?\n",
        "* Podeu veure alguna correlació entre X i y?\n",
        "* Estan balancejades les etiquetes (distribució similar entre categories)? Creieu que pot afectar a la classificació la seva distribució?"
      ]
    },
    {
      "cell_type": "markdown",
      "metadata": {},
      "source": [
        "Quants atributs té la vostra base de dades?"
      ]
    },
    {
      "cell_type": "code",
      "execution_count": 4,
      "metadata": {},
      "outputs": [
        {
          "data": {
            "text/plain": [
              "12"
            ]
          },
          "execution_count": 4,
          "metadata": {},
          "output_type": "execute_result"
        }
      ],
      "source": [
        "len(df.columns)"
      ]
    },
    {
      "cell_type": "markdown",
      "metadata": {},
      "source": [
        "Té 12 atributs incloent el target (Survived). "
      ]
    },
    {
      "cell_type": "markdown",
      "metadata": {},
      "source": [
        "Quin tipus d'atributs teniu? (Númerics, temporals, categòrics, binaris...)"
      ]
    },
    {
      "cell_type": "code",
      "execution_count": 8,
      "metadata": {},
      "outputs": [
        {
          "data": {
            "text/plain": [
              "PassengerId      int64\n",
              "Survived         int64\n",
              "Pclass           int64\n",
              "Name            object\n",
              "Sex             object\n",
              "Age            float64\n",
              "SibSp            int64\n",
              "Parch            int64\n",
              "Ticket          object\n",
              "Fare           float64\n",
              "Cabin           object\n",
              "Embarked        object\n",
              "dtype: object"
            ]
          },
          "execution_count": 8,
          "metadata": {},
          "output_type": "execute_result"
        }
      ],
      "source": [
        "df.dtypes"
      ]
    },
    {
      "cell_type": "markdown",
      "metadata": {},
      "source": [
        "\n",
        "Podem veure que hi ha 4 variables independents enteres, 5 cadenes de caracters i dos punt flotant.\n",
        "\n",
        "Variables enteres:\n",
        "\n",
        "PassengerId:"
      ]
    },
    {
      "cell_type": "code",
      "execution_count": null,
      "metadata": {},
      "outputs": [
        {
          "name": "stdout",
          "output_type": "stream",
          "text": [
            "0        1\n",
            "1        2\n",
            "2        3\n",
            "3        4\n",
            "4        5\n",
            "      ... \n",
            "886    887\n",
            "887    888\n",
            "888    889\n",
            "889    890\n",
            "890    891\n",
            "Name: PassengerId, Length: 891, dtype: int64\n"
          ]
        }
      ],
      "source": [
        "print(df[\"PassengerId\"])\n",
        "df[\"PassengerId\"]=df\n"
      ]
    },
    {
      "cell_type": "code",
      "execution_count": null,
      "metadata": {},
      "outputs": [],
      "source": [
        "\n",
        "\n",
        "df[\"Sex_Bin\"]=(df[\"Sex\"]==\"male\").astype(int)\n",
        "\n",
        "df[\"Name_lenght\"]=df[\"Name\"].apply(len) #Divertit\n",
        "\n",
        "#print((df.loc[df[\"Embarked\"] == \"S\"])[\"Survived\"].describe())\n",
        "#print((df.loc[df[\"Embarked\"] == \"C\"])[\"Survived\"].describe())\n",
        "#print((df.loc[df[\"Embarked\"] == \"Q\"])[\"Survived\"].describe())\n",
        "# S i Q no gaire diferents (33/38%), C diferent.\n",
        "df[\"Embarked_Bin\"]=(df[\"Embarked\"]==\"C\").astype(int)\n",
        "X=df[[\"Sex_Bin\", \"Name_lenght\", \"Embarked_Bin\", \"Pclass\", \"Age\", \"SibSp\",\"Parch\",\"Fare\"]]\n",
        "y=df[\"Survived\"]\n",
        "#Treure nans :(\n",
        "sklearn.linear_model.LogisticRegression().fit(X, y)\n"
      ]
    },
    {
      "cell_type": "markdown",
      "metadata": {
        "id": "CuLtWQWpCl7T"
      },
      "source": [
        "### 2. Preprocessing (normalitzation, outlier removal, feature selection, ...) (2 punts)\n",
        "Un cop vistes les dades de les que es disposa, cal preparar les dades per als nostres algoritmes. Segons la tipologia de dades, es poden filtrar atributs, aplicar-hi reductors de dimensionalitat, codificar categories textuals en valors numèrics, normalitzar les dades, treure outliers...\n",
        "\n",
        "Navegueu per la [documentació de sklearn sobre preprocessing](https://scikit-learn.org/stable/modules/preprocessing.html) per tal de trobar les diferents opcions que proporciona sklearn.\n",
        "\n",
        "**Preguntes:**\n",
        "* Estan les dades normalitzades? Caldria fer-ho?\n",
        "* En cas que les normalitzeu, quin tipus de normalització serà més adient per a les vostres dades?\n",
        "* Teniu gaires dades sense informació (nans)? Tingueu en compte que hi ha metodes que no els toleren durant l'aprenentatge. Com afecta a la classificació si les filtrem? I si les reompliu? Com ho farieu? [Pista](https://scikit-learn.org/stable/modules/impute.html)\n",
        "* Teniu dades categòriques? Quina seria la codificació amb més sentit?\n",
        "* Podreu treure algun atribut extra de les categòriques (per exemple, aplicant alguna regla sobre el text)?\n",
        "* Caldria aplicar PCA? Quins beneficis o inconvenients trobarieu?\n",
        "* Caldria aplicar alguna tècnica de selecció de variables? Ho trobeu necessari?"
      ]
    },
    {
      "cell_type": "markdown",
      "metadata": {
        "id": "axc-wn2rCl7T"
      },
      "source": [
        "### 3. Metric selection (1.5 punts)\n",
        "En aquest apartat ens centrarem en les mètriques de classificació ([documentació](https://scikit-learn.org/stable/modules/model_evaluation.html#classification-metrics)). Per a fer-ho, entreneu una regressio logistica i a partir d'aquesta generarem una serie de funcions per analitzar els nostres resultats. Aquestes funcions ens serviran més endavant. Caldrà tambe triar la mètrica que farem servir després per triar el millor model.\n",
        "\n",
        "**Preguntes:**\n",
        "* A teoria, hem vist el resultat d'aplicar el `accuracy_score` sobre dades no balancejades. Podrieu explicar i justificar quina de les següents mètriques será la més adient pel vostre problema? `accuracy_score`, `f1_score` o `average_precision_score`?\n",
        "* Abans de començar a entrenar models, genereu una suite de funcions per poder analitzar graficament com esta anant el vostre model. Mostreu la Precisió-Recall Curve i la ROC Curve. Quina és més rellevant pel vostre dataset?\n",
        "* Què mostra [classification_report](https://scikit-learn.org/stable/modules/generated/sklearn.metrics.classification_report.html)? Quina mètrica us fixareu per tal de optimitzar-ne la classificació pel vostre cas?\n",
        "\n",
        "**Nota**: Fixeu-vos que en aquest apartat NO ES VALOREN ELS RESULTATS. L'únic que es valora és l'elecció de la mètrica de classificació així com saber quin tipus de gràfiques fer per analitzar els resultats. Abans de solucionar un problema cal tenir molt clar la mètrica d'error que es farà servir, i és una decisió que cal pendre de forma prèvia a entrenar models."
      ]
    },
    {
      "cell_type": "markdown",
      "metadata": {
        "id": "t8xe5r78Cl7T"
      },
      "source": [
        "### 4. Model Selection amb validació creuada (4 punts)\n",
        "\n",
        "Fent servir la mètrica trobada en l'apartat anterior, en aquest apartat caldrà seleccionar una sèrie de models i, fent ús de la validació creuada, seleccionar el millor model amb els seus respectius millors hyperpàrametres que haurem buscat fent hyperparameter search.\n",
        "\n",
        "La tasca d'aquesta pràctica s'enmarca dins l'aprenentatge computacional **supervisat**. A sklearn, disposem de diverses tècniques [(veure documentació)](https://scikit-learn.org/stable/supervised_learning.html). A les classes de teoria, hem vist tècniques com ara logistic regression, SVM amb diferents kernels, Nearest Neighbour... i també coneixeu altres tecniques d'altres cursos, com els arbres de decisio. Per aquest apartat es demana seleccionar **un minim de 3 models**.\n",
        "\n",
        "**Preguntes:**\n",
        "* Quins models heu considerat? Per què els heu seleccionat?\n",
        "* Fent servir validació creuada, escolliu el millor model (agafant els hiperparàmetres per defecte). Recordeu fer servir la mètrica utilitzada en l'apartat anterior i fer fer servir algun [tipus de validacio creuada](https://scikit-learn.org/stable/modules/cross_validation.html).\n",
        "\n",
        "* Seleccioneu una sèrie d'hiperparàmetres a provar per cadascun dels models i realitzeu una cerca d'hiperparàmetres. Hi ha algun model que creieu que podeu descartar de primeres? Per què?\n",
        "\n",
        "* Mostreu els resultats en una taula on es mostri el model, els experiments realitzats i els resultats obtinguts (tant en train com en test). Podeu mostrar tambe el temps d'entrenament de cada model.\n",
        "\n",
        "* Quin tipus de validació heu escollit en la selecció de models?\n",
        "\n",
        "* Quines formes de buscar els millors hiperparàmetres heu trobat? Són costoses computacionalment parlant? [documentació](https://scikit-learn.org/stable/modules/grid_search.html). Quina heu seleccionat?\n",
        "\n",
        "* Si disposem de recursos limitats (per exemple, un PC durant 1 hora), quin dels mètodes creieu que obtindrà millor resultat final?\n",
        "\n",
        "* Opcional: Feu la prova, i amb el model i el metode de validació creuada escollit, configureu els diferents mètodes de cerca per a que s'executin durant el mateix temps (i.e. depenent del problema, 0,5h-1 hora). Analitzeu quin ha arribat a una millor solució. (Ajuda: estimeu el temps que trigarà a fer 1 training el vostre model, i així trobeu el número de intents que podeu fer en cada cas.)"
      ]
    },
    {
      "cell_type": "markdown",
      "metadata": {
        "id": "Hx-3b7v2TwJ3"
      },
      "source": [
        "### 5.Anàlisi Final (1.5 punt)\n",
        "\n",
        "Un cop seleccionat el millor model amb els millors hiperparàmetres, caldrà fer un anàlisi final amb els resultats obtinguts.\n",
        "\n",
        "**Preguntes:**\n",
        "* Mostreu les corves ROC/PR (la que hagueu escollit en l'apartat 2) i interpreteu els resultats.\n",
        "\n",
        "* Analitzeu en detall les diferents mètriques que trobeu adients i comenteu per sobre com podrieu fer servir aquest model en un futur. Això és el que es coneix com un cas d'ús.\n",
        "\n",
        "* Com creieu que es podria millorar el vostre model?"
      ]
    },
    {
      "cell_type": "code",
      "execution_count": null,
      "metadata": {
        "id": "eJlr4sZkU0s-"
      },
      "outputs": [],
      "source": []
    }
  ],
  "metadata": {
    "colab": {
      "provenance": []
    },
    "kernelspec": {
      "display_name": "Python 3",
      "language": "python",
      "name": "python3"
    },
    "language_info": {
      "codemirror_mode": {
        "name": "ipython",
        "version": 3
      },
      "file_extension": ".py",
      "mimetype": "text/x-python",
      "name": "python",
      "nbconvert_exporter": "python",
      "pygments_lexer": "ipython3",
      "version": "3.12.3"
    }
  },
  "nbformat": 4,
  "nbformat_minor": 0
}
